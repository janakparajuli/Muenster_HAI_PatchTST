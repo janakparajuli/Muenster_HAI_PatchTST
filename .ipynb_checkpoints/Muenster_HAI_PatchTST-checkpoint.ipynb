{
 "cells": [
  {
   "cell_type": "code",
   "execution_count": 1,
   "id": "abf232a2-19bc-465e-9826-e0d3d19d31aa",
   "metadata": {},
   "outputs": [],
   "source": [
    "import pandas as pd"
   ]
  },
  {
   "cell_type": "code",
   "execution_count": 3,
   "id": "f2877efd-776d-4bbc-b794-21f3412824db",
   "metadata": {},
   "outputs": [],
   "source": [
    "### Load Dataset\n",
    "df = pd.read_csv(r\"E:\\PROFESSION\\NG\\Research\\PN_Raja\\Muenster_hai.csv\")"
   ]
  },
  {
   "cell_type": "code",
   "execution_count": 4,
   "id": "b30c645f-fd8c-4794-babc-fc9629254e04",
   "metadata": {},
   "outputs": [
    {
     "data": {
      "text/html": [
       "<div>\n",
       "<style scoped>\n",
       "    .dataframe tbody tr th:only-of-type {\n",
       "        vertical-align: middle;\n",
       "    }\n",
       "\n",
       "    .dataframe tbody tr th {\n",
       "        vertical-align: top;\n",
       "    }\n",
       "\n",
       "    .dataframe thead th {\n",
       "        text-align: right;\n",
       "    }\n",
       "</style>\n",
       "<table border=\"1\" class=\"dataframe\">\n",
       "  <thead>\n",
       "    <tr style=\"text-align: right;\">\n",
       "      <th></th>\n",
       "      <th>AGG_DAY_PERIOD</th>\n",
       "      <th>GEOGRAPHY</th>\n",
       "      <th>ACTIVITY_INDEX_TOTAL</th>\n",
       "      <th>XLON</th>\n",
       "      <th>XLAT</th>\n",
       "    </tr>\n",
       "  </thead>\n",
       "  <tbody>\n",
       "    <tr>\n",
       "      <th>0</th>\n",
       "      <td>2020-12-31</td>\n",
       "      <td>120203021133103213</td>\n",
       "      <td>0.081590</td>\n",
       "      <td>7.003098</td>\n",
       "      <td>51.442453</td>\n",
       "    </tr>\n",
       "    <tr>\n",
       "      <th>1</th>\n",
       "      <td>2020-12-31</td>\n",
       "      <td>120203021130221130</td>\n",
       "      <td>0.016807</td>\n",
       "      <td>6.875381</td>\n",
       "      <td>51.465558</td>\n",
       "    </tr>\n",
       "    <tr>\n",
       "      <th>2</th>\n",
       "      <td>2020-12-31</td>\n",
       "      <td>120203021130303123</td>\n",
       "      <td>0.127186</td>\n",
       "      <td>6.917953</td>\n",
       "      <td>51.471547</td>\n",
       "    </tr>\n",
       "    <tr>\n",
       "      <th>3</th>\n",
       "      <td>2020-12-31</td>\n",
       "      <td>120203012210111031</td>\n",
       "      <td>0.024016</td>\n",
       "      <td>7.288742</td>\n",
       "      <td>51.833656</td>\n",
       "    </tr>\n",
       "    <tr>\n",
       "      <th>4</th>\n",
       "      <td>2020-12-31</td>\n",
       "      <td>120203012112121023</td>\n",
       "      <td>0.033855</td>\n",
       "      <td>7.615585</td>\n",
       "      <td>51.981920</td>\n",
       "    </tr>\n",
       "  </tbody>\n",
       "</table>\n",
       "</div>"
      ],
      "text/plain": [
       "  AGG_DAY_PERIOD           GEOGRAPHY  ACTIVITY_INDEX_TOTAL      XLON  \\\n",
       "0     2020-12-31  120203021133103213              0.081590  7.003098   \n",
       "1     2020-12-31  120203021130221130              0.016807  6.875381   \n",
       "2     2020-12-31  120203021130303123              0.127186  6.917953   \n",
       "3     2020-12-31  120203012210111031              0.024016  7.288742   \n",
       "4     2020-12-31  120203012112121023              0.033855  7.615585   \n",
       "\n",
       "        XLAT  \n",
       "0  51.442453  \n",
       "1  51.465558  \n",
       "2  51.471547  \n",
       "3  51.833656  \n",
       "4  51.981920  "
      ]
     },
     "execution_count": 4,
     "metadata": {},
     "output_type": "execute_result"
    }
   ],
   "source": [
    "# Convert 'date' column to datetime\n",
    "df['date'] = pd.to_datetime(df['date'])\n",
    "\n",
    "# Group by date and compute centroid of latitude and longitude\n",
    "result = df.groupby('date').agg(\n",
    "    lat_centroid=('lat', 'mean'),\n",
    "    long_centroid=('long', 'mean'),\n",
    "    hai_sum=('hai', 'sum')\n",
    ").reset_index()\n",
    "\n",
    "# Save the result to a new CSV file\n",
    "result.to_csv('grouped_data.csv', index=False)\n",
    "\n",
    "print(\"Grouping completed and saved to grouped_data.csv\")"
   ]
  },
  {
   "cell_type": "code",
   "execution_count": null,
   "id": "f70e7725-1149-4b28-9a38-16df54ff1ea4",
   "metadata": {},
   "outputs": [],
   "source": []
  },
  {
   "cell_type": "code",
   "execution_count": null,
   "id": "0f62acf2-b947-43d3-8657-fe644e1856e1",
   "metadata": {},
   "outputs": [],
   "source": []
  },
  {
   "cell_type": "code",
   "execution_count": null,
   "id": "52102f6d-399c-4f79-b80b-5e17a1cce7ce",
   "metadata": {},
   "outputs": [],
   "source": []
  },
  {
   "cell_type": "code",
   "execution_count": null,
   "id": "99cb6df7-ec6d-48fc-b3eb-b2e9303d38aa",
   "metadata": {},
   "outputs": [],
   "source": []
  }
 ],
 "metadata": {
  "kernelspec": {
   "display_name": "Python 3 (ipykernel)",
   "language": "python",
   "name": "python3"
  },
  "language_info": {
   "codemirror_mode": {
    "name": "ipython",
    "version": 3
   },
   "file_extension": ".py",
   "mimetype": "text/x-python",
   "name": "python",
   "nbconvert_exporter": "python",
   "pygments_lexer": "ipython3",
   "version": "3.8.19"
  }
 },
 "nbformat": 4,
 "nbformat_minor": 5
}
